{
  "cells": [
    {
      "attachments": {},
      "cell_type": "markdown",
      "metadata": {
        "id": "Iu1CcMlRlhtO"
      },
      "source": [
        "# Sequential single-point Bayesian optimisation"
      ]
    },
    {
      "cell_type": "code",
      "execution_count": 1,
      "metadata": {
        "id": "ivtHr7RbldhU"
      },
      "outputs": [
        {
          "name": "stdout",
          "output_type": "stream",
          "text": [
            "New best at evaluation 34: \t Inputs: [0.1944 0.2627 0.     0.311  0.3311 0.7252], \t Outputs: [-2.2019]\n",
            "New best at evaluation 35: \t Inputs: [0.2237 0.1796 0.     0.3295 0.3233 0.6819], \t Outputs: [-2.3608]\n",
            "New best at evaluation 36: \t Inputs: [0.2334 0.1673 0.501  0.3297 0.3209 0.6827], \t Outputs: [-3.194]\n",
            "New best at evaluation 40: \t Inputs: [0.2061 0.1872 0.513  0.317  0.2864 0.642 ], \t Outputs: [-3.2033]\n",
            "New best at evaluation 41: \t Inputs: [0.2555 0.1491 0.4892 0.2897 0.2878 0.6616], \t Outputs: [-3.2528]\n",
            "New best at evaluation 42: \t Inputs: [0.1926 0.161  0.5281 0.2637 0.3057 0.683 ], \t Outputs: [-3.2734]\n",
            "New best at evaluation 47: \t Inputs: [0.2236 0.1315 0.4595 0.2746 0.3192 0.6622], \t Outputs: [-3.3069]\n",
            "New best at evaluation 48: \t Inputs: [0.1971 0.1513 0.4775 0.278  0.3096 0.6462], \t Outputs: [-3.3184]\n",
            "New best at evaluation 53: \t Inputs: [0.207  0.1481 0.4719 0.2767 0.3093 0.6667], \t Outputs: [-3.3193]\n",
            "New best at evaluation 55: \t Inputs: [0.2069 0.1546 0.4753 0.2798 0.3106 0.6618], \t Outputs: [-3.3207]\n",
            "New best at evaluation 62: \t Inputs: [0.2056 0.154  0.4771 0.2802 0.3105 0.6606], \t Outputs: [-3.321]\n",
            "New best at evaluation 63: \t Inputs: [0.2053 0.1533 0.4768 0.2799 0.3105 0.6599], \t Outputs: [-3.3213]\n",
            "Evaluation: 63 \t Solution: 3.3213\n"
          ]
        }
      ],
      "source": [
        "import torch\n",
        "from nubo.acquisition import ExpectedImprovement, UpperConfidenceBound\n",
        "from nubo.models import GaussianProcess, fit_gp\n",
        "from nubo.optimisation import lbfgsb\n",
        "from nubo.test_functions import Hartmann6D\n",
        "from nubo.utils import gen_inputs\n",
        "from gpytorch.likelihoods import GaussianLikelihood\n",
        "\n",
        "\n",
        "# test function\n",
        "func = Hartmann6D(minimise=False)\n",
        "dims = func.dims\n",
        "bounds = func.bounds\n",
        "\n",
        "# training data\n",
        "x_train = gen_inputs(num_points=dims*5,\n",
        "                     num_dims=dims,\n",
        "                     bounds=bounds)\n",
        "y_train = func(x_train)\n",
        "\n",
        "# Bayesian optimisation loop\n",
        "iters = 40\n",
        "\n",
        "for iter in range(iters):\n",
        "    \n",
        "    # specify Gaussian process\n",
        "    likelihood = GaussianLikelihood()\n",
        "    gp = GaussianProcess(x_train, y_train, likelihood=likelihood)\n",
        "    \n",
        "    # fit Gaussian process\n",
        "    fit_gp(x_train, y_train, gp=gp, likelihood=likelihood, lr=0.1, steps=200)\n",
        "\n",
        "    # specify acquisition function\n",
        "    # acq = ExpectedImprovement(gp=gp, y_best=torch.max(y_train))\n",
        "    acq = UpperConfidenceBound(gp=gp, beta=1.96**2)\n",
        "\n",
        "    # optimise acquisition function\n",
        "    x_new, _ = lbfgsb(func=acq, bounds=bounds, num_starts=5)\n",
        "\n",
        "    # evaluate new point\n",
        "    y_new = func(x_new)\n",
        "    \n",
        "    # add to data\n",
        "    x_train = torch.vstack((x_train, x_new))\n",
        "    y_train = torch.hstack((y_train, y_new))\n",
        "\n",
        "    # print new best\n",
        "    if y_new > torch.max(y_train[:-1]):\n",
        "        print(f\"New best at evaluation {len(y_train)}: \\t Inputs: {x_new.numpy().reshape(dims).round(4)}, \\t Outputs: {-y_new.numpy().round(4)}\")\n",
        "\n",
        "# results\n",
        "best_iter = int(torch.argmax(y_train))\n",
        "print(f\"Evaluation: {best_iter+1} \\t Solution: {float(y_train[best_iter]):.4f}\")\n"
      ]
    }
  ],
  "metadata": {
    "colab": {
      "provenance": []
    },
    "kernelspec": {
      "display_name": "env",
      "language": "python",
      "name": "python3"
    },
    "language_info": {
      "codemirror_mode": {
        "name": "ipython",
        "version": 3
      },
      "file_extension": ".py",
      "mimetype": "text/x-python",
      "name": "python",
      "nbconvert_exporter": "python",
      "pygments_lexer": "ipython3",
      "version": "3.11.1"
    },
    "vscode": {
      "interpreter": {
        "hash": "440ccce7314e8ea21bc6387ad3e4b0d06ade5f0dbc76119080186fc1c6dec90d"
      }
    }
  },
  "nbformat": 4,
  "nbformat_minor": 0
}
