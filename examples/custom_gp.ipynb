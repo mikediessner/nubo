{
 "cells": [
  {
   "attachments": {},
   "cell_type": "markdown",
   "metadata": {},
   "source": [
    "# Custom Gaussian process\n",
    "\n",
    "This notebook gives an introduction to specifying custom Gaussian processes with *GPyTorch* that can be used with NUBO.\n",
    "\n",
    "## Define Gaussian process\n",
    "\n",
    "A Gaussian process is defined by its mean function and its covariance kernel. Both are specified in the `__init__()` method of the `GaussianProcess` class below and can easily be replaced by the desired function or kernel. While *GPyTorch* offers many different options, the most common choices are the zero mean or constant mean function and the Matern or RBF kernel. Some kernels, such as the Matern and the RBF kernel, are only defined for a certain range. They need to be scaled through the `ScaleKernel` to be used with all problems. The length-scale parameters of the covariance kernel can either be represented as a single length-scale or as one length-scale parameter for each input dimensions. The latter is known as automatic relevance determination (ARD) and allows inputs to be differently correlated. The `forward()` method takes a test point and returns the predictive multivariate normal distribution. All other properties of the Gaussian process are inherited by the ExactGP class making it easy to implement custom Gaussian processes with *GPyTorch* for NUBO. For more information about Gaussian processes and about options for the prior mean function and the prior covariance kernel see *GPyTorch*’s [documentation](https://docs.gpytorch.ai/en/stable/)."
   ]
  },
  {
   "cell_type": "code",
   "execution_count": 6,
   "metadata": {},
   "outputs": [],
   "source": [
    "from torch import Tensor\n",
    "from gpytorch.models import ExactGP\n",
    "from gpytorch.means import ZeroMean, ConstantMean\n",
    "from gpytorch.kernels import MaternKernel, RBFKernel, ScaleKernel\n",
    "from gpytorch.distributions import MultivariateNormal\n",
    "from gpytorch.likelihoods import Likelihood\n",
    "\n",
    "\n",
    "class GaussianProcess(ExactGP):\n",
    "\n",
    "    def __init__(self,\n",
    "                 x_train: Tensor, \n",
    "                 y_train: Tensor,\n",
    "                 likelihood: Likelihood) -> None:\n",
    "\n",
    "        # initialise ExactGP\n",
    "        super(GaussianProcess, self).__init__(x_train, y_train, likelihood)\n",
    "\n",
    "        # specify mean function and covariance kernel\n",
    "        self.mean_module = ZeroMean()\n",
    "        self.covar_module = ScaleKernel(\n",
    "            base_kernel=RBFKernel(ard_num_dims=x_train.shape[-1])\n",
    "        )\n",
    "\n",
    "    def forward(self, x: Tensor) -> MultivariateNormal:\n",
    "\n",
    "        mean_x = self.mean_module(x)\n",
    "        covar_x = self.covar_module(x)\n",
    "\n",
    "        return MultivariateNormal(mean_x, covar_x)\n"
   ]
  },
  {
   "attachments": {},
   "cell_type": "markdown",
   "metadata": {},
   "source": [
    "## Generate training data\n",
    "\n",
    "To use the Gaussian process, we first generate some training data."
   ]
  },
  {
   "cell_type": "code",
   "execution_count": 7,
   "metadata": {},
   "outputs": [],
   "source": [
    "from nubo.test_functions import Hartmann6D\n",
    "from nubo.utils import gen_inputs\n",
    "\n",
    "\n",
    "# test function\n",
    "func = Hartmann6D(minimise=False)\n",
    "dims = func.dims\n",
    "bounds = func.bounds\n",
    "\n",
    "# training data\n",
    "x_train = gen_inputs(num_points=dims*5,\n",
    "                     num_dims=dims,\n",
    "                     bounds=bounds)\n",
    "y_train = func(x_train)"
   ]
  },
  {
   "attachments": {},
   "cell_type": "markdown",
   "metadata": {},
   "source": [
    "Before we fit the Gaussian process to the training data, we first have to decide on the likelihood that should be used. There are two likelihoods we want to consider here: First, we have the standard `GaussianLikelihood`. This likelihood assumes a constant homoskedastic observation noise and estimates the noise parameter $\\sigma^2$ from the data. Second, there is the `FixedNoiseGaussianLikelihood`. Use this option when you know or can measure the observation noise of your objective function. In this case, you can still decide if you want to estimate any additional noise. This example continues with the full estimation of the noise level. NUBO has the convenience function `fit_gp()` that maximises the log marginal likelihood with maximum likelihood estimation (MLE) using *torch*’s Adam optimiser."
   ]
  },
  {
   "cell_type": "code",
   "execution_count": 8,
   "metadata": {},
   "outputs": [],
   "source": [
    "from nubo.models import fit_gp\n",
    "from gpytorch.likelihoods import GaussianLikelihood, FixedNoiseGaussianLikelihood\n",
    "\n",
    "  \n",
    "# initialise Gaussian process\n",
    "likelihood = GaussianLikelihood()\n",
    "gp = GaussianProcess(x_train, y_train, likelihood=likelihood)\n",
    "\n",
    "# fit Gaussian process\n",
    "fit_gp(x_train, y_train, gp=gp, likelihood=likelihood, lr=0.1, steps=200)"
   ]
  },
  {
   "attachments": {},
   "cell_type": "markdown",
   "metadata": {},
   "source": [
    "The estimated parameters of the Gaussian process can be viewed as follows:"
   ]
  },
  {
   "cell_type": "code",
   "execution_count": 9,
   "metadata": {},
   "outputs": [
    {
     "name": "stdout",
     "output_type": "stream",
     "text": [
      "Covariance kernel output-scale: 0.11602050811052322\n",
      "Covariance kernel length-scale: tensor([[3.1205, 0.2160, 4.9657, 0.4887, 0.2444, 0.4630]])\n",
      "Estimated noise/nugget: 0.007854326628148556\n"
     ]
    }
   ],
   "source": [
    "print(f\"Covariance kernel output-scale: {gp.covar_module.outputscale.item()}\")\n",
    "print(f\"Covariance kernel length-scale: {gp.covar_module.base_kernel.lengthscale.detach()}\")\n",
    "print(f\"Estimated noise/nugget: {likelihood.noise.item()}\")"
   ]
  },
  {
   "attachments": {},
   "cell_type": "markdown",
   "metadata": {},
   "source": [
    "## Make predictions for test points\n",
    "\n",
    "With the fitted Gaussian process in hand, we can easily predict the mean and the variance of previously unobserved test points. Below, we sample five points randomly and print the predictive mean and variance that define the predictive distribution for each test point based on the training data and our Gaussian process specified above."
   ]
  },
  {
   "cell_type": "code",
   "execution_count": 10,
   "metadata": {},
   "outputs": [
    {
     "name": "stdout",
     "output_type": "stream",
     "text": [
      "Mean: tensor([ 0.4491, -0.0391,  0.6764,  0.3965,  0.3495], dtype=torch.float64)\n",
      "Variance: tensor([0.0318, 0.0294, 0.0374, 0.0173, 0.0194], dtype=torch.float64)\n"
     ]
    }
   ],
   "source": [
    "import torch\n",
    "\n",
    "\n",
    "# sample test point\n",
    "x_test = torch.rand((5, dims))\n",
    "\n",
    "# set Gaussian Process to eval mode\n",
    "gp.eval()\n",
    "\n",
    "# make predictions\n",
    "pred = gp(x_test)\n",
    "\n",
    "# predictive mean and variance\n",
    "mean = pred.mean\n",
    "variance = pred.variance.clamp_min(1e-10)\n",
    "\n",
    "print(f\"Mean: {mean.detach()}\")\n",
    "print(f\"Variance: {variance.detach()}\")"
   ]
  }
 ],
 "metadata": {
  "kernelspec": {
   "display_name": "env",
   "language": "python",
   "name": "python3"
  },
  "language_info": {
   "codemirror_mode": {
    "name": "ipython",
    "version": 3
   },
   "file_extension": ".py",
   "mimetype": "text/x-python",
   "name": "python",
   "nbconvert_exporter": "python",
   "pygments_lexer": "ipython3",
   "version": "3.11.2"
  },
  "orig_nbformat": 4
 },
 "nbformat": 4,
 "nbformat_minor": 2
}
