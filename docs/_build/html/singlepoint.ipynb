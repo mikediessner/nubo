{
 "cells": [
  {
   "attachments": {},
   "cell_type": "markdown",
   "metadata": {
    "id": "Iu1CcMlRlhtO"
   },
   "source": [
    "# Sequential single-point Bayesian Optimisation"
   ]
  },
  {
   "cell_type": "code",
   "execution_count": 1,
   "metadata": {
    "id": "ivtHr7RbldhU"
   },
   "outputs": [
    {
     "name": "stdout",
     "output_type": "stream",
     "text": [
      "New best at evaluation 33: \t Inputs: [0.3159 0.8291 0.     0.5973 1.     0.    ], \t Outputs: [-2.3698]\n",
      "New best at evaluation 39: \t Inputs: [0.3975 0.8033 0.2752 0.5622 0.635  0.    ], \t Outputs: [-2.8438]\n",
      "New best at evaluation 42: \t Inputs: [0.4225 0.8332 1.     0.5555 0.     0.    ], \t Outputs: [-3.0419]\n",
      "New best at evaluation 49: \t Inputs: [0.4017 0.8468 1.     0.5813 0.     0.0085], \t Outputs: [-3.1208]\n",
      "New best at evaluation 51: \t Inputs: [0.4026 0.8657 1.     0.5994 0.     0.0246], \t Outputs: [-3.1584]\n",
      "New best at evaluation 55: \t Inputs: [0.4253 0.8895 1.     0.5895 0.     0.0399], \t Outputs: [-3.1627]\n",
      "New best at evaluation 57: \t Inputs: [0.3971 0.9002 1.     0.5686 0.     0.0405], \t Outputs: [-3.1823]\n",
      "New best at evaluation 62: \t Inputs: [0.4015 0.873  1.     0.5623 0.     0.0426], \t Outputs: [-3.1861]\n",
      "New best at evaluation 63: \t Inputs: [0.4035 0.8879 1.     0.5812 0.     0.0375], \t Outputs: [-3.1921]\n",
      "New best at evaluation 64: \t Inputs: [0.4045 0.8868 1.     0.5793 0.     0.038 ], \t Outputs: [-3.1932]\n",
      "New best at evaluation 65: \t Inputs: [0.4071 0.8853 1.     0.5749 0.     0.0374], \t Outputs: [-3.1939]\n",
      "Evaluation: 65 \t Solution: 3.1939\n"
     ]
    }
   ],
   "source": [
    "import torch\n",
    "from nubo.acquisition import ExpectedImprovement, UpperConfidenceBound\n",
    "from nubo.models import GaussianProcess, fit_gp\n",
    "from nubo.optimisation import lbfgsb\n",
    "from nubo.test_functions import Hartmann6D\n",
    "from nubo.utils import LatinHypercubeSampling, unnormalise\n",
    "from gpytorch.likelihoods import GaussianLikelihood\n",
    "from gpytorch.mlls import ExactMarginalLogLikelihood\n",
    "\n",
    "\n",
    "# test function\n",
    "func = Hartmann6D(minimise=False)\n",
    "dims = func.dims\n",
    "bounds = func.bounds\n",
    "\n",
    "# training data\n",
    "torch.manual_seed(1)\n",
    "lhs = LatinHypercubeSampling(dims=dims)\n",
    "x_train = lhs.maximin(points=dims*5)\n",
    "x_train = unnormalise(x_train, bounds=bounds)\n",
    "y_train = func(x_train)\n",
    "\n",
    "# Bayesian optimisation loop\n",
    "iters = 40\n",
    "\n",
    "for iter in range(iters):\n",
    "    \n",
    "    # specify Gaussian process\n",
    "    likelihood = GaussianLikelihood()\n",
    "    gp = GaussianProcess(x_train, y_train, likelihood=likelihood)\n",
    "    mll = ExactMarginalLogLikelihood(likelihood=likelihood, model=gp)\n",
    "    \n",
    "    # fit Gaussian process\n",
    "    fit_gp(x_train, y_train, gp=gp, likelihood=likelihood, mll=mll, lr=0.1, steps=200)\n",
    "\n",
    "    # specify acquisition function\n",
    "    # acq = ExpectedImprovement(gp=gp, y_best=torch.max(y_train))\n",
    "    acq = UpperConfidenceBound(gp=gp, beta=1.96**2)\n",
    "\n",
    "    # optimise acquisition function\n",
    "    x_new, _ = lbfgsb(func=acq, bounds=bounds, num_starts=5)\n",
    "\n",
    "    # evaluate new point\n",
    "    y_new = func(x_new)\n",
    "    \n",
    "    # add to data\n",
    "    x_train = torch.vstack((x_train, x_new))\n",
    "    y_train = torch.hstack((y_train, y_new))\n",
    "\n",
    "    # print new best\n",
    "    if y_new > torch.max(y_train[:-1]):\n",
    "        print(f\"New best at evaluation {len(y_train)}: \\t Inputs: {x_new.numpy().reshape(dims).round(4)}, \\t Outputs: {-y_new.numpy().round(4)}\")\n",
    "\n",
    "# results\n",
    "best_iter = int(torch.argmax(y_train))\n",
    "print(f\"Evaluation: {best_iter+1} \\t Solution: {float(y_train[best_iter]):.4f}\")\n"
   ]
  }
 ],
 "metadata": {
  "colab": {
   "provenance": []
  },
  "kernelspec": {
   "display_name": "Python 3",
   "name": "python3"
  },
  "language_info": {
   "codemirror_mode": {
    "name": "ipython",
    "version": 3
   },
   "file_extension": ".py",
   "mimetype": "text/x-python",
   "name": "python",
   "nbconvert_exporter": "python",
   "pygments_lexer": "ipython3",
   "version": "3.10.10"
  }
 },
 "nbformat": 4,
 "nbformat_minor": 0
}
