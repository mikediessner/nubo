{
 "cells": [
  {
   "attachments": {},
   "cell_type": "markdown",
   "metadata": {},
   "source": [
    "# Get started\n",
    "\n",
    "## Installing NUBO\n",
    "\n",
    "Install NUBO and all its dependencies directly from the GitHub repository using `pip` with the following code. The use of a virtual environment is recommended.\n",
    "\n",
    "```text\n",
    "pip install git+https://github.com/mikediessner/nubo\n",
    "```\n",
    "\n",
    "***\n",
    "\n",
    "## Optimising a toy function with NUBO"
   ]
  },
  {
   "attachments": {},
   "cell_type": "markdown",
   "metadata": {},
   "source": [
    "First, we set-up the toy function we want to optimise. In this case we choose the 6-dimensional Hartmann function, a multi-modal function. "
   ]
  },
  {
   "cell_type": "code",
   "execution_count": 1,
   "metadata": {},
   "outputs": [],
   "source": [
    "from nubo.test_functions import Hartmann6D\n",
    "\n",
    "\n",
    "# test function\n",
    "func = Hartmann6D(minimise=False)\n",
    "dims = func.dims\n",
    "bounds = func.bounds"
   ]
  },
  {
   "attachments": {},
   "cell_type": "markdown",
   "metadata": {},
   "source": [
    "Then, we generate some initial training data. We decide to generate 5 data points per input dimension resulting in a total of 30 data points."
   ]
  },
  {
   "cell_type": "code",
   "execution_count": 2,
   "metadata": {},
   "outputs": [],
   "source": [
    "import torch\n",
    "from nubo.utils import gen_inputs\n",
    "\n",
    "\n",
    "# training data\n",
    "x_train = gen_inputs(num_points=dims*5,\n",
    "                     num_dims=dims,\n",
    "                     bounds=bounds,\n",
    "                     seed=1)\n",
    "y_train = func(x_train)"
   ]
  },
  {
   "attachments": {},
   "cell_type": "markdown",
   "metadata": {},
   "source": [
    "Now, we can prepare the Bayesian optimisation loop. We choose a in NUBO pre-defined Gaussian process with constant mean function and Matern 5/2 kernel and estimate its hyper-parameters via maximum likelihood estimation (MLE) using the Adam optimiser. For the acquisition function, we implement the analytical Upper Confidence Bound with trade-off parameter $\\beta=1.96^2$ (corresponding to 95% confidence intervals for a Gaussian distribution) and optimise it with the L-BFGS-B algorithm using a multi-start approach with five restarts. The Bayesian optimisation loop is run for 40 iterations giving an evaluation budget of 70."
   ]
  },
  {
   "cell_type": "code",
   "execution_count": 3,
   "metadata": {},
   "outputs": [
    {
     "name": "stdout",
     "output_type": "stream",
     "text": [
      "New best at evaluation 33: \t Inputs: [0.3159 0.8291 0.     0.5973 1.     0.    ], \t Outputs: [-2.3698]\n",
      "New best at evaluation 39: \t Inputs: [0.3975 0.8033 0.2752 0.5622 0.635  0.    ], \t Outputs: [-2.8438]\n",
      "New best at evaluation 42: \t Inputs: [0.4225 0.8332 1.     0.5555 0.     0.    ], \t Outputs: [-3.0419]\n",
      "New best at evaluation 49: \t Inputs: [0.4017 0.8468 1.     0.5813 0.     0.0085], \t Outputs: [-3.1208]\n",
      "New best at evaluation 51: \t Inputs: [0.4026 0.8657 1.     0.5994 0.     0.0246], \t Outputs: [-3.1584]\n",
      "New best at evaluation 55: \t Inputs: [0.4253 0.8895 1.     0.5895 0.     0.0399], \t Outputs: [-3.1627]\n",
      "New best at evaluation 57: \t Inputs: [0.3971 0.9002 1.     0.5686 0.     0.0405], \t Outputs: [-3.1823]\n",
      "New best at evaluation 62: \t Inputs: [0.4015 0.873  1.     0.5623 0.     0.0426], \t Outputs: [-3.1861]\n",
      "New best at evaluation 63: \t Inputs: [0.4035 0.8879 1.     0.5812 0.     0.0375], \t Outputs: [-3.1921]\n",
      "New best at evaluation 64: \t Inputs: [0.4045 0.8868 1.     0.5793 0.     0.038 ], \t Outputs: [-3.1932]\n",
      "New best at evaluation 65: \t Inputs: [0.4071 0.8853 1.     0.5749 0.     0.0374], \t Outputs: [-3.1939]\n"
     ]
    }
   ],
   "source": [
    "from nubo.acquisition import UpperConfidenceBound\n",
    "from nubo.models import GaussianProcess, fit_gp\n",
    "from nubo.optimisation import lbfgsb\n",
    "from gpytorch.likelihoods import GaussianLikelihood\n",
    "from gpytorch.mlls import ExactMarginalLogLikelihood\n",
    "\n",
    "\n",
    "# Bayesian optimisation loop\n",
    "iters = 40\n",
    "\n",
    "for iter in range(iters):\n",
    "    \n",
    "    # specify Gaussian process\n",
    "    likelihood = GaussianLikelihood()\n",
    "    gp = GaussianProcess(x_train, y_train, likelihood=likelihood)\n",
    "    mll = ExactMarginalLogLikelihood(likelihood=likelihood, model=gp)\n",
    "    \n",
    "    # fit Gaussian process\n",
    "    fit_gp(x_train, y_train, gp=gp, likelihood=likelihood, mll=mll, lr=0.1, steps=200)\n",
    "\n",
    "    # specify acquisition function\n",
    "    acq = UpperConfidenceBound(gp=gp, beta=1.96**2)\n",
    "\n",
    "    # optimise acquisition function\n",
    "    x_new, _ = lbfgsb(func=acq, bounds=bounds, num_starts=5)\n",
    "\n",
    "    # evaluate new point\n",
    "    y_new = func(x_new)\n",
    "    \n",
    "    # add to data\n",
    "    x_train = torch.vstack((x_train, x_new))\n",
    "    y_train = torch.hstack((y_train, y_new))\n",
    "\n",
    "    # print new best\n",
    "    if y_new > torch.max(y_train[:-1]):\n",
    "        print(f\"New best at evaluation {len(y_train)}: \\t Inputs: {x_new.numpy().reshape(dims).round(4)}, \\t Outputs: {-y_new.numpy().round(4)}\")\n"
   ]
  },
  {
   "attachments": {},
   "cell_type": "markdown",
   "metadata": {},
   "source": [
    "Finally, we print the overall best solution: We get -3.1939 on evaluation 65 which approximaties the true optimum of -3.3224."
   ]
  },
  {
   "cell_type": "code",
   "execution_count": 4,
   "metadata": {},
   "outputs": [
    {
     "name": "stdout",
     "output_type": "stream",
     "text": [
      "Evaluation: 65 \t Solution: 3.1939\n"
     ]
    }
   ],
   "source": [
    "# results\n",
    "best_iter = int(torch.argmax(y_train))\n",
    "print(f\"Evaluation: {best_iter+1} \\t Solution: {float(y_train[best_iter]):.4f}\")"
   ]
  }
 ],
 "metadata": {
  "kernelspec": {
   "display_name": "env",
   "language": "python",
   "name": "python3"
  },
  "language_info": {
   "codemirror_mode": {
    "name": "ipython",
    "version": 3
   },
   "file_extension": ".py",
   "mimetype": "text/x-python",
   "name": "python",
   "nbconvert_exporter": "python",
   "pygments_lexer": "ipython3",
   "version": "3.10.10"
  }
 },
 "nbformat": 4,
 "nbformat_minor": 2
}
