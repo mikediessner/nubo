{
 "cells": [
  {
   "attachments": {},
   "cell_type": "markdown",
   "metadata": {},
   "source": [
    "# Multi-point joint Bayesian Optimisation"
   ]
  },
  {
   "cell_type": "code",
   "execution_count": 1,
   "metadata": {},
   "outputs": [
    {
     "name": "stdout",
     "output_type": "stream",
     "text": [
      "New best at evaluation 33: \t Inputs: [0.4206 0.9388 0.7492 0.4295 0.4485 0.0024], \t Outputs: -2.4497\n",
      "New best at evaluation 38: \t Inputs: [0.4075 0.998  0.0014 0.5362 0.0043 0.0011], \t Outputs: -2.676\n",
      "New best at evaluation 45: \t Inputs: [4.030e-01 8.936e-01 9.995e-01 5.419e-01 6.400e-03 6.000e-04], \t Outputs: -3.0968\n",
      "New best at evaluation 47: \t Inputs: [4.081e-01 8.699e-01 9.953e-01 5.815e-01 9.000e-04 4.000e-04], \t Outputs: -3.1251\n",
      "New best at evaluation 61: \t Inputs: [3.980e-01 8.873e-01 9.979e-01 5.819e-01 7.000e-03 1.000e-04], \t Outputs: -3.1261\n",
      "New best at evaluation 66: \t Inputs: [0.4037 0.8744 0.5707 0.57   0.0075 0.0469], \t Outputs: -3.1792\n",
      "Evaluation: 66 \t Solution: 3.1792\n"
     ]
    }
   ],
   "source": [
    "import torch\n",
    "from nubo.acquisition import MCExpectedImprovement, MCUpperConfidenceBound\n",
    "from nubo.models import GaussianProcess, fit_gp\n",
    "from nubo.optimisation import joint\n",
    "from nubo.test_functions import Hartmann6D\n",
    "from nubo.utils import LatinHypercubeSampling, unnormalise\n",
    "from gpytorch.likelihoods import GaussianLikelihood\n",
    "from gpytorch.mlls import ExactMarginalLogLikelihood\n",
    "\n",
    "\n",
    "# test function\n",
    "func = Hartmann6D(minimise=False)\n",
    "dims = func.dims\n",
    "bounds = func.bounds\n",
    "\n",
    "# training data\n",
    "torch.manual_seed(1)\n",
    "lhs = LatinHypercubeSampling(dims=dims)\n",
    "x_train = lhs.maximin(points=dims*5)\n",
    "x_train = unnormalise(x_train, bounds=bounds)\n",
    "y_train = func(x_train)\n",
    "\n",
    "# Bayesian optimisation loop\n",
    "iters = 10\n",
    "\n",
    "for iter in range(iters):\n",
    "    \n",
    "    # specify Gaussian process\n",
    "    likelihood = GaussianLikelihood()\n",
    "    gp = GaussianProcess(x_train, y_train, likelihood=likelihood)\n",
    "    mll = ExactMarginalLogLikelihood(likelihood=likelihood, model=gp)\n",
    "    \n",
    "    # fit Gaussian process\n",
    "    fit_gp(x_train, y_train, gp=gp, likelihood=likelihood, mll=mll, lr=0.1, steps=200)\n",
    "\n",
    "    # specify acquisition function\n",
    "    # acq = MCExpectedImprovement(gp=gp, y_best=torch.max(y_train), samples=256)\n",
    "    acq = MCUpperConfidenceBound(gp=gp, beta=1.96**2, samples=256)\n",
    "\n",
    "    # optimise acquisition function\n",
    "    x_new, _ = joint(func=acq, method=\"Adam\", batch_size=4, bounds=bounds, lr=0.1, steps=200, num_starts=1)\n",
    "\n",
    "    # evaluate new point\n",
    "    y_new = func(x_new)\n",
    "    \n",
    "    # add to data\n",
    "    x_train = torch.vstack((x_train, x_new))\n",
    "    y_train = torch.hstack((y_train, y_new))\n",
    "\n",
    "    # print new best\n",
    "    if torch.max(y_new) > torch.max(y_train[:-y_new.size(0)]):\n",
    "        best_eval = torch.argmax(y_train)\n",
    "        print(f\"New best at evaluation {best_eval+1}: \\t Inputs: {x_train[best_eval, :].numpy().reshape(dims).round(4)}, \\t Outputs: {-y_train[best_eval].numpy().round(4)}\")\n",
    "\n",
    "# results\n",
    "best_iter = int(torch.argmax(y_train))\n",
    "print(f\"Evaluation: {best_iter+1} \\t Solution: {float(y_train[best_iter]):.4f}\")\n"
   ]
  }
 ],
 "metadata": {
  "kernelspec": {
   "display_name": "env",
   "language": "python",
   "name": "python3"
  },
  "language_info": {
   "codemirror_mode": {
    "name": "ipython",
    "version": 3
   },
   "file_extension": ".py",
   "mimetype": "text/x-python",
   "name": "python",
   "nbconvert_exporter": "python",
   "pygments_lexer": "ipython3",
   "version": "3.10.10"
  },
  "orig_nbformat": 4
 },
 "nbformat": 4,
 "nbformat_minor": 2
}
