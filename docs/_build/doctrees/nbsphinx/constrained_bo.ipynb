{
 "cells": [
  {
   "attachments": {},
   "cell_type": "markdown",
   "metadata": {},
   "source": [
    "# Constrained single-point Bayesian optimisation\n",
    "\n",
    "In this example, NUBO is used to maximise a function where the input space is bounded and constrained. The whole process is not too different from the unconstrained case. We only need to choose a different optimiser that allows the use of constraints when maximising the acquisition function `UpperConfidenceBound`. NUBO uses the SLSQP optimiser that can be provided with a dictionary or a tuple of dictionaries that specify one or multiple constraints. We specify two constraints to showcase the two different options: equality constraints and inequality constraints. Equality constraints require the constraint to be 0 while the result is non-negative for inequality constraints. Our first constraint `{'type': 'ineq', 'fun': lambda x: 0.5 - x[0] - x[1]}` is an inequality constraint and requires the sum of the first two inputs to be smaller or equal to 0.5. The second constraint `{'type': 'eq', 'fun': lambda x: 1.2442 - x[3] - x[4] - x[5]}` is an equality constraint specifying that the sum of the last three inputs needs to be equal to 1.2442. These constraints are very simple and in practice, much more complex constraints might be specified. The `Hartmann6D` synthetic test function acts as a substitute for a black-box objective function, such as an experiment or a simulation. The optimisation loop is run for 40 iterations and finds a solution close to the true optimum of -3.3224. Important: Generating initial input points with a Latin hypercube might not work for real problems as they will not consider the constraints but only the bounds. In these situations, other methods or selecting initial points by hand might be preferable. The purpose of this example is solely the demonstration of how NUBO handles constraints and constrained optimisation."
   ]
  },
  {
   "cell_type": "code",
   "execution_count": 1,
   "metadata": {},
   "outputs": [
    {
     "name": "stdout",
     "output_type": "stream",
     "text": [
      "New best at evaluation 40: \t Inputs: [0.2699 0.     0.2734 0.2569 0.3897 0.5977], \t Outputs: [-2.4334]\n",
      "New best at evaluation 41: \t Inputs: [0.2803 0.2137 0.293  0.3056 0.3629 0.5757], \t Outputs: [-2.6996]\n",
      "New best at evaluation 45: \t Inputs: [0.2548 0.1987 0.2919 0.2775 0.3478 0.6189], \t Outputs: [-2.9417]\n",
      "New best at evaluation 50: \t Inputs: [0.3511 0.1489 0.3001 0.2755 0.3184 0.6503], \t Outputs: [-2.9475]\n",
      "New best at evaluation 51: \t Inputs: [0.2964 0.2036 0.4317 0.2867 0.3155 0.642 ], \t Outputs: [-3.1666]\n",
      "New best at evaluation 52: \t Inputs: [0.2068 0.1493 0.4381 0.301  0.2881 0.655 ], \t Outputs: [-3.2668]\n",
      "New best at evaluation 54: \t Inputs: [0.2156 0.115  0.4715 0.2642 0.3085 0.6714], \t Outputs: [-3.2964]\n",
      "New best at evaluation 57: \t Inputs: [0.1959 0.1574 0.4968 0.2744 0.3097 0.6601], \t Outputs: [-3.3173]\n",
      "New best at evaluation 60: \t Inputs: [0.2112 0.1458 0.4709 0.2797 0.3103 0.6541], \t Outputs: [-3.3201]\n",
      "New best at evaluation 66: \t Inputs: [0.2039 0.142  0.4717 0.2785 0.3116 0.6541], \t Outputs: [-3.3209]\n",
      "Evaluation: 66 \t Solution: -3.3209\n"
     ]
    }
   ],
   "source": [
    "import torch\n",
    "from nubo.acquisition import ExpectedImprovement, UpperConfidenceBound\n",
    "from nubo.models import GaussianProcess, fit_gp\n",
    "from nubo.optimisation import single\n",
    "from nubo.test_functions import Hartmann6D\n",
    "from nubo.utils import gen_inputs\n",
    "from gpytorch.likelihoods import GaussianLikelihood\n",
    "\n",
    "\n",
    "# test function\n",
    "func = Hartmann6D(minimise=False)\n",
    "dims = 6\n",
    "\n",
    "# specify bounds and constraints\n",
    "bounds = torch.tensor([[0., 0., 0., 0., 0., 0.], [1., 1., 1., 1., 1., 1.]])\n",
    "cons = ({'type': 'ineq', 'fun': lambda x: 0.5 - x[0] - x[1]},\n",
    "        {'type': 'eq', 'fun': lambda x: 1.2442 - x[3] - x[4] - x[5]})\n",
    "\n",
    "# training data\n",
    "x_train = gen_inputs(num_points=dims*5,\n",
    "                     num_dims=dims,\n",
    "                     bounds=bounds)\n",
    "y_train = func(x_train)\n",
    "\n",
    "# Bayesian optimisation loop\n",
    "iters = 40\n",
    "\n",
    "for iter in range(iters):\n",
    "    \n",
    "    # specify Gaussian process\n",
    "    likelihood = GaussianLikelihood()\n",
    "    gp = GaussianProcess(x_train, y_train, likelihood=likelihood)\n",
    "    \n",
    "    # fit Gaussian process\n",
    "    fit_gp(x_train, y_train, gp=gp, likelihood=likelihood, lr=0.1, steps=200)\n",
    "\n",
    "    # specify acquisition function\n",
    "    # acq = ExpectedImprovement(gp=gp, y_best=torch.max(y_train))\n",
    "    acq = UpperConfidenceBound(gp=gp, beta=1.96**2)\n",
    "\n",
    "    # optimise acquisition function\n",
    "    x_new, _ = single(func=acq, method=\"SLSQP\", bounds=bounds, constraints=cons, num_starts=5)\n",
    "\n",
    "    # evaluate new point\n",
    "    y_new = func(x_new)\n",
    "    \n",
    "    # add to data\n",
    "    x_train = torch.vstack((x_train, x_new))\n",
    "    y_train = torch.hstack((y_train, y_new))\n",
    "\n",
    "    # print new best\n",
    "    if y_new > torch.max(y_train[:-1]):\n",
    "        print(f\"New best at evaluation {len(y_train)}: \\t Inputs: {x_new.numpy().reshape(dims).round(4)}, \\t Outputs: {-y_new.numpy().round(4)}\")\n",
    "\n",
    "# results\n",
    "best_iter = int(torch.argmax(y_train))\n",
    "print(f\"Evaluation: {best_iter+1} \\t Solution: {-float(y_train[best_iter]):.4f}\")\n"
   ]
  }
 ],
 "metadata": {
  "kernelspec": {
   "display_name": "env",
   "language": "python",
   "name": "python3"
  },
  "language_info": {
   "codemirror_mode": {
    "name": "ipython",
    "version": 3
   },
   "file_extension": ".py",
   "mimetype": "text/x-python",
   "name": "python",
   "nbconvert_exporter": "python",
   "pygments_lexer": "ipython3",
   "version": "3.10.10"
  },
  "vscode": {
   "interpreter": {
    "hash": "440ccce7314e8ea21bc6387ad3e4b0d06ade5f0dbc76119080186fc1c6dec90d"
   }
  }
 },
 "nbformat": 4,
 "nbformat_minor": 2
}
