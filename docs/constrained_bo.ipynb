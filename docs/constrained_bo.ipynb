{
 "cells": [
  {
   "attachments": {},
   "cell_type": "markdown",
   "metadata": {},
   "source": [
    "# Constrained Bayesian optimisation"
   ]
  },
  {
   "cell_type": "code",
   "execution_count": 1,
   "metadata": {},
   "outputs": [
    {
     "name": "stdout",
     "output_type": "stream",
     "text": [
      "New best at evaluation 40: \t Inputs: [0.2426 0.2574 0.3801 0.3812 0.1807 0.6823], \t Outputs: [-2.1706]\n",
      "New best at evaluation 43: \t Inputs: [0.2159 0.2841 0.3293 0.3916 0.2908 0.5618], \t Outputs: [-2.4406]\n",
      "New best at evaluation 46: \t Inputs: [0.1803 0.1897 0.3561 0.3714 0.2694 0.6034], \t Outputs: [-2.8027]\n",
      "New best at evaluation 52: \t Inputs: [0.2436 0.1538 0.4723 0.3641 0.2724 0.6077], \t Outputs: [-2.9484]\n",
      "New best at evaluation 56: \t Inputs: [0.2045 0.1369 0.5032 0.3406 0.2733 0.6303], \t Outputs: [-3.0979]\n",
      "New best at evaluation 57: \t Inputs: [0.208  0.1383 0.457  0.257  0.3181 0.6691], \t Outputs: [-3.3]\n",
      "New best at evaluation 65: \t Inputs: [0.2012 0.1452 0.4682 0.2816 0.3081 0.6545], \t Outputs: [-3.3196]\n",
      "New best at evaluation 66: \t Inputs: [0.2011 0.1455 0.4686 0.281  0.3085 0.6547], \t Outputs: [-3.32]\n",
      "New best at evaluation 67: \t Inputs: [0.2009 0.1458 0.4684 0.2803 0.3089 0.655 ], \t Outputs: [-3.3204]\n",
      "New best at evaluation 68: \t Inputs: [0.201  0.1471 0.4692 0.2798 0.3091 0.6553], \t Outputs: [-3.3208]\n",
      "Evaluation: 68 \t Solution: 3.3208\n"
     ]
    }
   ],
   "source": [
    "import torch\n",
    "from nubo.acquisition import ExpectedImprovement, UpperConfidenceBound\n",
    "from nubo.models import GaussianProcess, fit_gp\n",
    "from nubo.optimisation import slsqp\n",
    "from nubo.test_functions import Hartmann6D\n",
    "from nubo.utils import gen_inputs\n",
    "from gpytorch.likelihoods import GaussianLikelihood\n",
    "from gpytorch.mlls import ExactMarginalLogLikelihood\n",
    "\n",
    "\n",
    "# test function\n",
    "func = Hartmann6D(minimise=False)\n",
    "dims = func.dims\n",
    "bounds = func.bounds\n",
    "\n",
    "# training data\n",
    "x_train = gen_inputs(num_points=dims*5,\n",
    "                     num_dims=dims,\n",
    "                     bounds=bounds,\n",
    "                     seed=1)\n",
    "y_train = func(x_train)\n",
    "\n",
    "# Bayesian optimisation loop\n",
    "iters = 40\n",
    "\n",
    "for iter in range(iters):\n",
    "    \n",
    "    # specify Gaussian process\n",
    "    likelihood = GaussianLikelihood()\n",
    "    gp = GaussianProcess(x_train, y_train, likelihood=likelihood)\n",
    "    mll = ExactMarginalLogLikelihood(likelihood=likelihood, model=gp)\n",
    "    \n",
    "    # fit Gaussian process\n",
    "    fit_gp(x_train, y_train, gp=gp, likelihood=likelihood, mll=mll, lr=0.1, steps=200)\n",
    "\n",
    "    # specify acquisition function\n",
    "    # acq = ExpectedImprovement(gp=gp, y_best=torch.max(y_train))\n",
    "    acq = UpperConfidenceBound(gp=gp, beta=1.96**2)\n",
    "\n",
    "    # define constraints\n",
    "    cons = ({'type': 'ineq', 'fun': lambda x: 0.5 - x[0] - x[1] },\n",
    "            {'type': 'eq', 'fun': lambda x: 1.2442 - x[3] - x[4] - x[5]})\n",
    "    \n",
    "    # optimise acquisition function\n",
    "    x_new, _ = slsqp(func=acq, bounds=bounds, constraints=cons, num_starts=5)\n",
    "\n",
    "    # evaluate new point\n",
    "    y_new = func(x_new)\n",
    "    \n",
    "    # add to data\n",
    "    x_train = torch.vstack((x_train, x_new))\n",
    "    y_train = torch.hstack((y_train, y_new))\n",
    "\n",
    "    # print new best\n",
    "    if y_new > torch.max(y_train[:-1]):\n",
    "        print(f\"New best at evaluation {len(y_train)}: \\t Inputs: {x_new.numpy().reshape(dims).round(4)}, \\t Outputs: {-y_new.numpy().round(4)}\")\n",
    "\n",
    "# results\n",
    "best_iter = int(torch.argmax(y_train))\n",
    "print(f\"Evaluation: {best_iter+1} \\t Solution: {float(y_train[best_iter]):.4f}\")\n"
   ]
  }
 ],
 "metadata": {
  "kernelspec": {
   "display_name": "env",
   "language": "python",
   "name": "python3"
  },
  "language_info": {
   "codemirror_mode": {
    "name": "ipython",
    "version": 3
   },
   "file_extension": ".py",
   "mimetype": "text/x-python",
   "name": "python",
   "nbconvert_exporter": "python",
   "pygments_lexer": "ipython3",
   "version": "3.10.10"
  },
  "orig_nbformat": 4
 },
 "nbformat": 4,
 "nbformat_minor": 2
}
