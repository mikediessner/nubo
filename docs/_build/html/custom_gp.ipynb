{
 "cells": [
  {
   "attachments": {},
   "cell_type": "markdown",
   "metadata": {},
   "source": [
    "# Custom Gaussian process"
   ]
  },
  {
   "attachments": {},
   "cell_type": "markdown",
   "metadata": {},
   "source": [
    "## Define Gaussian process"
   ]
  },
  {
   "cell_type": "code",
   "execution_count": 1,
   "metadata": {},
   "outputs": [],
   "source": [
    "from torch import Tensor\n",
    "from gpytorch.models import ExactGP\n",
    "from gpytorch.means import ZeroMean, ConstantMean\n",
    "from gpytorch.kernels import MaternKernel, RBFKernel, ScaleKernel\n",
    "from gpytorch.distributions import MultivariateNormal\n",
    "from gpytorch.likelihoods import Likelihood\n",
    "\n",
    "\n",
    "class GaussianProcess(ExactGP):\n",
    "\n",
    "    def __init__(self,\n",
    "                 x_train: Tensor, \n",
    "                 y_train: Tensor,\n",
    "                 likelihood: Likelihood) -> None:\n",
    "\n",
    "        # initialise ExactGP\n",
    "        super(GaussianProcess, self).__init__(x_train, y_train, likelihood)\n",
    "\n",
    "        # specify mean function and covariance kernel\n",
    "        self.mean_module = ZeroMean()\n",
    "        self.covar_module = ScaleKernel(\n",
    "            base_kernel=RBFKernel(ard_num_dims=x_train.shape[-1])\n",
    "        )\n",
    "\n",
    "    def forward(self, x: Tensor) -> MultivariateNormal:\n",
    "\n",
    "        mean_x = self.mean_module(x)\n",
    "        covar_x = self.covar_module(x)\n",
    "\n",
    "        return MultivariateNormal(mean_x, covar_x)\n"
   ]
  },
  {
   "attachments": {},
   "cell_type": "markdown",
   "metadata": {},
   "source": [
    "## Generate training data"
   ]
  },
  {
   "cell_type": "code",
   "execution_count": 2,
   "metadata": {},
   "outputs": [],
   "source": [
    "from nubo.test_functions import Hartmann6D\n",
    "from nubo.utils import gen_inputs\n",
    "\n",
    "\n",
    "# test function\n",
    "func = Hartmann6D(minimise=False)\n",
    "dims = func.dims\n",
    "bounds = func.bounds\n",
    "\n",
    "# training data\n",
    "x_train = gen_inputs(num_points=dims*5,\n",
    "                     num_dims=dims,\n",
    "                     bounds=bounds)\n",
    "y_train = func(x_train)"
   ]
  },
  {
   "attachments": {},
   "cell_type": "markdown",
   "metadata": {},
   "source": [
    "## Fit Gaussian process"
   ]
  },
  {
   "cell_type": "code",
   "execution_count": 3,
   "metadata": {},
   "outputs": [],
   "source": [
    "from nubo.models import fit_gp\n",
    "from gpytorch.likelihoods import GaussianLikelihood\n",
    "\n",
    "  \n",
    "# initialise Gaussian process\n",
    "likelihood = GaussianLikelihood()\n",
    "gp = GaussianProcess(x_train, y_train, likelihood=likelihood)\n",
    "\n",
    "# fit Gaussian process\n",
    "fit_gp(x_train, y_train, gp=gp, likelihood=likelihood, lr=0.1, steps=200)"
   ]
  },
  {
   "attachments": {},
   "cell_type": "markdown",
   "metadata": {},
   "source": [
    "## Predict test point"
   ]
  },
  {
   "cell_type": "code",
   "execution_count": 4,
   "metadata": {},
   "outputs": [
    {
     "name": "stdout",
     "output_type": "stream",
     "text": [
      "Mean: tensor([-0.1095, -0.1708,  0.1029,  0.2947, -0.0896], dtype=torch.float64)\n",
      "Variance: tensor([0.0838, 0.0431, 0.0119, 0.0370, 0.0544], dtype=torch.float64)\n"
     ]
    }
   ],
   "source": [
    "import torch\n",
    "\n",
    "\n",
    "# sample test point\n",
    "x_test = torch.rand((5, dims))\n",
    "\n",
    "# set Gaussian Process to eval mode\n",
    "gp.eval()\n",
    "\n",
    "# make predictions\n",
    "pred = gp(x_test)\n",
    "\n",
    "# predictive mean and variance\n",
    "mean = pred.mean\n",
    "variance = pred.variance.clamp_min(1e-10)\n",
    "\n",
    "print(f\"Mean: {mean.detach()}\")\n",
    "print(f\"Variance: {variance.detach()}\")"
   ]
  }
 ],
 "metadata": {
  "kernelspec": {
   "display_name": "env",
   "language": "python",
   "name": "python3"
  },
  "language_info": {
   "codemirror_mode": {
    "name": "ipython",
    "version": 3
   },
   "file_extension": ".py",
   "mimetype": "text/x-python",
   "name": "python",
   "nbconvert_exporter": "python",
   "pygments_lexer": "ipython3",
   "version": "3.10.10"
  }
 },
 "nbformat": 4,
 "nbformat_minor": 2
}
