{
 "cells": [
  {
   "cell_type": "code",
   "execution_count": 17,
   "metadata": {},
   "outputs": [
    {
     "name": "stdout",
     "output_type": "stream",
     "text": [
      "New best at evaluation 4: \t Inputs: [2.3319], \t Outputs: -1.6885000467300415\n",
      "New best at evaluation 6: \t Inputs: [2.015], \t Outputs: -1.8193999528884888\n",
      "New best at evaluation 10: \t Inputs: [7.6207], \t Outputs: -7.4141998291015625\n",
      "New best at evaluation 11: \t Inputs: [7.8413], \t Outputs: -7.840700149536133\n",
      "New best at evaluation 12: \t Inputs: [7.9806], \t Outputs: -7.9166998863220215\n",
      "Evaluation: 12 \t Solution: 7.9167\n"
     ]
    },
    {
     "data": {
      "text/plain": [
       "<Figure size 640x480 with 0 Axes>"
      ]
     },
     "metadata": {},
     "output_type": "display_data"
    },
    {
     "data": {
      "text/plain": [
       "<Figure size 640x480 with 0 Axes>"
      ]
     },
     "metadata": {},
     "output_type": "display_data"
    },
    {
     "data": {
      "text/plain": [
       "<Figure size 640x480 with 0 Axes>"
      ]
     },
     "metadata": {},
     "output_type": "display_data"
    },
    {
     "data": {
      "text/plain": [
       "<Figure size 640x480 with 0 Axes>"
      ]
     },
     "metadata": {},
     "output_type": "display_data"
    },
    {
     "data": {
      "text/plain": [
       "<Figure size 640x480 with 0 Axes>"
      ]
     },
     "metadata": {},
     "output_type": "display_data"
    },
    {
     "data": {
      "text/plain": [
       "<Figure size 640x480 with 0 Axes>"
      ]
     },
     "metadata": {},
     "output_type": "display_data"
    },
    {
     "data": {
      "text/plain": [
       "<Figure size 640x480 with 0 Axes>"
      ]
     },
     "metadata": {},
     "output_type": "display_data"
    },
    {
     "data": {
      "text/plain": [
       "<Figure size 640x480 with 0 Axes>"
      ]
     },
     "metadata": {},
     "output_type": "display_data"
    },
    {
     "data": {
      "text/plain": [
       "<Figure size 640x480 with 0 Axes>"
      ]
     },
     "metadata": {},
     "output_type": "display_data"
    },
    {
     "data": {
      "text/plain": [
       "<Figure size 640x480 with 0 Axes>"
      ]
     },
     "metadata": {},
     "output_type": "display_data"
    },
    {
     "data": {
      "text/plain": [
       "<Figure size 640x480 with 0 Axes>"
      ]
     },
     "metadata": {},
     "output_type": "display_data"
    },
    {
     "data": {
      "text/plain": [
       "<Figure size 640x480 with 0 Axes>"
      ]
     },
     "metadata": {},
     "output_type": "display_data"
    },
    {
     "data": {
      "text/plain": [
       "<Figure size 640x480 with 0 Axes>"
      ]
     },
     "metadata": {},
     "output_type": "display_data"
    },
    {
     "data": {
      "text/plain": [
       "<Figure size 640x480 with 0 Axes>"
      ]
     },
     "metadata": {},
     "output_type": "display_data"
    },
    {
     "data": {
      "text/plain": [
       "<Figure size 640x480 with 0 Axes>"
      ]
     },
     "metadata": {},
     "output_type": "display_data"
    },
    {
     "data": {
      "text/plain": [
       "<Figure size 640x480 with 0 Axes>"
      ]
     },
     "metadata": {},
     "output_type": "display_data"
    },
    {
     "data": {
      "text/plain": [
       "<Figure size 640x480 with 0 Axes>"
      ]
     },
     "metadata": {},
     "output_type": "display_data"
    },
    {
     "data": {
      "text/plain": [
       "<Figure size 640x480 with 0 Axes>"
      ]
     },
     "metadata": {},
     "output_type": "display_data"
    },
    {
     "data": {
      "text/plain": [
       "<Figure size 640x480 with 0 Axes>"
      ]
     },
     "metadata": {},
     "output_type": "display_data"
    },
    {
     "data": {
      "text/plain": [
       "<Figure size 640x480 with 0 Axes>"
      ]
     },
     "metadata": {},
     "output_type": "display_data"
    }
   ],
   "source": [
    "import torch\n",
    "from nubo.acquisition import ExpectedImprovement, UpperConfidenceBound\n",
    "from nubo.models import GaussianProcess, fit_gp\n",
    "from nubo.optimisation import lbfgsb\n",
    "from nubo.utils import gen_inputs\n",
    "from gpytorch.likelihoods import GaussianLikelihood\n",
    "from toy_function import Multimodal_1D\n",
    "import matplotlib.pyplot as plt\n",
    "from gpytorch.constraints import Interval\n",
    "\n",
    "# test function\n",
    "func = Multimodal_1D(minimise=True)\n",
    "dims = func.dims\n",
    "bounds = func.bounds\n",
    "\n",
    "# training data\n",
    "torch.manual_seed(1)\n",
    "x_train = gen_inputs(num_points=2,\n",
    "                     num_dims=1,\n",
    "                     bounds=bounds,\n",
    "                     num_lhd=2)\n",
    "y_train = func(x_train)\n",
    "\n",
    "# Bayesian optimisation loop\n",
    "iters = 20\n",
    "\n",
    "for iter in range(iters):\n",
    "    \n",
    "    # specify Gaussian process\n",
    "    likelihood = GaussianLikelihood(noise_constraint=Interval(0.0, 0.0000001))\n",
    "    gp = GaussianProcess(x_train, y_train, likelihood=likelihood)\n",
    "    \n",
    "    # fit Gaussian process\n",
    "    fit_gp(x_train, y_train, gp=gp, likelihood=likelihood, lr=0.1, steps=200)\n",
    "\n",
    "    # specify acquisition function\n",
    "    acq = ExpectedImprovement(gp=gp, y_best=torch.max(y_train))\n",
    "    # acq = UpperConfidenceBound(gp=gp, beta=16)\n",
    "\n",
    "    # optimise acquisition function\n",
    "    x_new, _ = lbfgsb(func=acq, bounds=bounds, num_starts=5, num_samples=1000)\n",
    "\n",
    "    # evaluate new point\n",
    "    y_new = func(x_new)\n",
    "    \n",
    "    # add to data\n",
    "    x_train = torch.vstack((x_train, x_new))\n",
    "    y_train = torch.hstack((y_train, y_new))\n",
    "\n",
    "    # print new best\n",
    "    if y_new > torch.max(y_train[:-1]):\n",
    "        print(f\"New best at evaluation {len(y_train)}: \\t Inputs: {x_new.numpy().reshape(dims).round(4)}, \\t Outputs: {-y_new.numpy().round(4)}\")\n",
    "    \n",
    "    # compute GP for plotting\n",
    "    x_plot = torch.linspace(start=-0.5, end=10.5, steps=1001, dtype=torch.double)\n",
    "\n",
    "    gp.eval()\n",
    "\n",
    "    pred = gp(x_plot)\n",
    "\n",
    "    gp_means = pred.mean\n",
    "    gp_vars = pred.variance.clamp_min(1e-10)\n",
    "    gp_ci_upper = gp_means + torch.sqrt(gp_vars)*1.96\n",
    "    gp_ci_lower = gp_means - torch.sqrt(gp_vars)*1.96\n",
    "    true = func(x_plot)\n",
    "    ucbs = -acq(torch.reshape(x_plot, (-1, 1))).detach().numpy()\n",
    "\n",
    "    x_plot = x_plot.detach().numpy()\n",
    "    gp_means = gp_means.detach().numpy()\n",
    "    gp_ci_upper = gp_ci_upper.detach().numpy()\n",
    "    gp_ci_lower = gp_ci_lower.detach().numpy()\n",
    "    \n",
    "    fig, ax1 = plt.subplots()\n",
    "    ax1.plot(x_train[:-1], y_train[:-1], marker=\"o\", linewidth=0, color=\"navy\", label=\"Observations\", zorder=6)\n",
    "    ax1.axvline(float(x_train[-1]), color=\"red\", linestyle=\"dotted\", linewidth=1, label=\"Candidate\", zorder=5)\n",
    "    ax1.plot(x_plot, gp_means, color=\"firebrick\", label=\"Prediction\", zorder=4)\n",
    "    ax1.plot(x_plot, true, color=\"black\", linestyle=\"dashed\", label=\"Truth\", zorder=2)\n",
    "    ax1.fill_between(x_plot, gp_ci_upper, gp_ci_lower, color=\"skyblue\", label=\"Uncertainty\", zorder=1)\n",
    "    pos = ax1.get_position()\n",
    "    ax1.set_position([pos.x0, pos.y0+pos.height*0.175, pos.width, pos.height * 0.85]) \n",
    "\n",
    "    ax2 = ax1.twinx() \n",
    "    ax2.fill_between(x_plot, ucbs, color=\"darkorange\", label=\"EI\", zorder=3, alpha=0.7)\n",
    "    ax2.set_position([pos.x0, pos.y0+pos.height*0.175, pos.width, pos.height * 0.85])\n",
    "\n",
    "\n",
    "    from matplotlib.patches import Patch\n",
    "    from matplotlib.lines import Line2D\n",
    "\n",
    "    legend_elements = [Line2D([0], [0], marker=\"o\", linewidth=0, color=\"navy\", label=\"Observations\"),\n",
    "                       Patch(color=\"darkorange\", label=\"Acquisition\", zorder=3, alpha=0.7),\n",
    "                       Line2D([0], [0], color=\"firebrick\", label=\"Prediction\"),\n",
    "                       Line2D([0], [0], color=\"red\", linestyle=\"dotted\", linewidth=1, label=\"Candidate\"),\n",
    "                       Patch(color=\"skyblue\", label=\"Uncertainty\"),\n",
    "                       Line2D([0], [0], color=\"black\", linestyle=\"dashed\", label=\"Truth\")]\n",
    "                                              \n",
    "    ax1.legend(handles=legend_elements, loc='lower center', ncol=3, bbox_to_anchor=(0.5, -0.35))\n",
    "    plt.title(r\"Expected improvement\")\n",
    "    ax1.set_ylabel(\"Output\")\n",
    "    ax2.set_ylabel(\"Expected improvement\")\n",
    "    ax1.set_xlabel(\"Input\")\n",
    "    plt.xlim((-0.5, 10.5))\n",
    "    ax1.set_ylim((-15., 9.))\n",
    "    ax2.set_ylim((0., 0.6))\n",
    "    ax1.text(-0.35, 7.7, f\"Iteration {iter+1}\")\n",
    "    plt.savefig(f\"ei_{iter}\")\n",
    "    plt.clf()\n",
    "\n",
    "# results\n",
    "best_iter = int(torch.argmax(y_train))\n",
    "print(f\"Evaluation: {best_iter+1} \\t Solution: {float(y_train[best_iter]):.4f}\")\n"
   ]
  }
 ],
 "metadata": {
  "kernelspec": {
   "display_name": "env",
   "language": "python",
   "name": "python3"
  },
  "language_info": {
   "codemirror_mode": {
    "name": "ipython",
    "version": 3
   },
   "file_extension": ".py",
   "mimetype": "text/x-python",
   "name": "python",
   "nbconvert_exporter": "python",
   "pygments_lexer": "ipython3",
   "version": "3.10.10"
  },
  "orig_nbformat": 4
 },
 "nbformat": 4,
 "nbformat_minor": 2
}
